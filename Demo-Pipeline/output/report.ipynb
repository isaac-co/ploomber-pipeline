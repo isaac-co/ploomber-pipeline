{
 "cells": [
  {
   "cell_type": "code",
   "execution_count": 1,
   "id": "13163db7",
   "metadata": {
    "execution": {
     "iopub.execute_input": "2022-04-22T02:10:59.580204Z",
     "iopub.status.busy": "2022-04-22T02:10:59.579203Z",
     "iopub.status.idle": "2022-04-22T02:10:59.590204Z",
     "shell.execute_reply": "2022-04-22T02:10:59.591204Z"
    },
    "lines_to_next_cell": 2,
    "papermill": {
     "duration": 0.018002,
     "end_time": "2022-04-22T02:10:59.591204",
     "exception": false,
     "start_time": "2022-04-22T02:10:59.573202",
     "status": "completed"
    },
    "tags": []
   },
   "outputs": [],
   "source": [
    "# Final step of the pipeline\n",
    "#\n",
    "# *Note:* You can open this file as a notebook (JupyterLab: right-click on it in the side bar -> Open With -> Notebook)"
   ]
  },
  {
   "cell_type": "code",
   "execution_count": 2,
   "id": "142682bc",
   "metadata": {
    "execution": {
     "iopub.execute_input": "2022-04-22T02:10:59.601208Z",
     "iopub.status.busy": "2022-04-22T02:10:59.601208Z",
     "iopub.status.idle": "2022-04-22T02:10:59.606206Z",
     "shell.execute_reply": "2022-04-22T02:10:59.605206Z"
    },
    "papermill": {
     "duration": 0.012001,
     "end_time": "2022-04-22T02:10:59.606206",
     "exception": false,
     "start_time": "2022-04-22T02:10:59.594205",
     "status": "completed"
    },
    "tags": []
   },
   "outputs": [],
   "source": [
    "# Uncomment the next two lines to enable auto reloading for imported modules\n",
    "# %load_ext autoreload\n",
    "# %autoreload 2\n",
    "# For more info, see:\n",
    "# https://docs.ploomber.io/en/latest/user-guide/faq_index.html#auto-reloading-code-in-jupyter"
   ]
  },
  {
   "cell_type": "code",
   "execution_count": 3,
   "id": "c48b9e2d",
   "metadata": {
    "execution": {
     "iopub.execute_input": "2022-04-22T02:10:59.618211Z",
     "iopub.status.busy": "2022-04-22T02:10:59.617206Z",
     "iopub.status.idle": "2022-04-22T02:10:59.621207Z",
     "shell.execute_reply": "2022-04-22T02:10:59.621207Z"
    },
    "lines_to_next_cell": 2,
    "papermill": {
     "duration": 0.014,
     "end_time": "2022-04-22T02:10:59.622207",
     "exception": false,
     "start_time": "2022-04-22T02:10:59.608207",
     "status": "completed"
    },
    "tags": [
     "parameters"
    ]
   },
   "outputs": [],
   "source": [
    "# If this task has dependencies, list them them here\n",
    "# (e.g. upstream = ['some_task']), otherwise leave as None.\n",
    "upstream = ['clean_titanic']\n",
    "\n",
    "# This is a placeholder, leave it as None\n",
    "product = None"
   ]
  },
  {
   "cell_type": "code",
   "execution_count": 4,
   "id": "9519c1b8",
   "metadata": {
    "execution": {
     "iopub.execute_input": "2022-04-22T02:10:59.630207Z",
     "iopub.status.busy": "2022-04-22T02:10:59.630207Z",
     "iopub.status.idle": "2022-04-22T02:10:59.638185Z",
     "shell.execute_reply": "2022-04-22T02:10:59.637185Z"
    },
    "papermill": {
     "duration": 0.013976,
     "end_time": "2022-04-22T02:10:59.638185",
     "exception": false,
     "start_time": "2022-04-22T02:10:59.624209",
     "status": "completed"
    },
    "tags": [
     "injected-parameters"
    ]
   },
   "outputs": [],
   "source": [
    "# Parameters\n",
    "upstream = {\n",
    "    \"clean_titanic\": {\n",
    "        \"data\": \"C:\\\\Users\\\\Isaac\\\\Desktop\\\\Folder\\\\Scripts\\\\ploomber-pipeline\\\\Demo-Pipeline\\\\output\\\\died.csv\",\n",
    "        \"data2\": \"C:\\\\Users\\\\Isaac\\\\Desktop\\\\Folder\\\\Scripts\\\\ploomber-pipeline\\\\Demo-Pipeline\\\\output\\\\survived.csv\",\n",
    "        \"nb\": \"C:\\\\Users\\\\Isaac\\\\Desktop\\\\Folder\\\\Scripts\\\\ploomber-pipeline\\\\Demo-Pipeline\\\\output\\\\clean_titanic.ipynb\",\n",
    "    }\n",
    "}\n",
    "product = \"C:\\\\Users\\\\Isaac\\\\Desktop\\\\Folder\\\\Scripts\\\\ploomber-pipeline\\\\Demo-Pipeline\\\\output\\\\report.ipynb\"\n"
   ]
  },
  {
   "cell_type": "code",
   "execution_count": 5,
   "id": "d0b515ea",
   "metadata": {
    "execution": {
     "iopub.execute_input": "2022-04-22T02:10:59.646186Z",
     "iopub.status.busy": "2022-04-22T02:10:59.645185Z",
     "iopub.status.idle": "2022-04-22T02:11:02.080397Z",
     "shell.execute_reply": "2022-04-22T02:11:02.080397Z"
    },
    "lines_to_next_cell": 2,
    "papermill": {
     "duration": 2.440213,
     "end_time": "2022-04-22T02:11:02.080397",
     "exception": false,
     "start_time": "2022-04-22T02:10:59.640184",
     "status": "completed"
    },
    "tags": []
   },
   "outputs": [],
   "source": [
    "import pandas as pd\n",
    "import seaborn as sns\n",
    "\n",
    "died = pd.read_csv(upstream['clean_titanic']['data'])\n",
    "survived = pd.read_csv(upstream['clean_titanic']['data2'])"
   ]
  },
  {
   "cell_type": "code",
   "execution_count": 6,
   "id": "902e3a64",
   "metadata": {
    "execution": {
     "iopub.execute_input": "2022-04-22T02:11:02.092399Z",
     "iopub.status.busy": "2022-04-22T02:11:02.091400Z",
     "iopub.status.idle": "2022-04-22T02:11:02.337215Z",
     "shell.execute_reply": "2022-04-22T02:11:02.337215Z"
    },
    "papermill": {
     "duration": 0.254817,
     "end_time": "2022-04-22T02:11:02.338214",
     "exception": false,
     "start_time": "2022-04-22T02:11:02.083397",
     "status": "completed"
    },
    "tags": []
   },
   "outputs": [
    {
     "data": {
      "text/plain": [
       "[Text(0.5, 1.0, 'Died')]"
      ]
     },
     "execution_count": 6,
     "metadata": {},
     "output_type": "execute_result"
    },
    {
     "data": {
      "image/png": "[encoded data removed]",
      "text/plain": [
       "<Figure size 432x288 with 1 Axes>"
      ]
     },
     "metadata": {
      "needs_background": "light"
     },
     "output_type": "display_data"
    }
   ],
   "source": [
    "sns.histplot(died['age'], color='Gray').set(title='Died')"
   ]
  },
  {
   "cell_type": "code",
   "execution_count": 7,
   "id": "183fe11d",
   "metadata": {
    "execution": {
     "iopub.execute_input": "2022-04-22T02:11:02.348216Z",
     "iopub.status.busy": "2022-04-22T02:11:02.348216Z",
     "iopub.status.idle": "2022-04-22T02:11:02.542194Z",
     "shell.execute_reply": "2022-04-22T02:11:02.541193Z"
    },
    "papermill": {
     "duration": 0.200979,
     "end_time": "2022-04-22T02:11:02.542194",
     "exception": false,
     "start_time": "2022-04-22T02:11:02.341215",
     "status": "completed"
    },
    "tags": []
   },
   "outputs": [
    {
     "data": {
      "text/plain": [
       "[Text(0.5, 1.0, 'Survived')]"
      ]
     },
     "execution_count": 7,
     "metadata": {},
     "output_type": "execute_result"
    },
    {
     "data": {
      "image/png": "[encoded data removed]",
      "text/plain": [
       "<Figure size 432x288 with 1 Axes>"
      ]
     },
     "metadata": {
      "needs_background": "light"
     },
     "output_type": "display_data"
    }
   ],
   "source": [
    "sns.histplot(survived['age'], color='Green').set(title='Survived')"
   ]
  }
 ],
 "metadata": {
  "jupytext": {
   "text_representation": {
    "extension": ".py",
    "format_name": "percent",
    "format_version": "1.3",
    "jupytext_version": "1.13.8"
   }
  },
  "kernelspec": {
   "display_name": "Python 3 (ipykernel)",
   "language": "python",
   "name": "python3"
  },
  "language_info": {
   "codemirror_mode": {
    "name": "ipython",
    "version": 3
   },
   "file_extension": ".py",
   "mimetype": "text/x-python",
   "name": "python",
   "nbconvert_exporter": "python",
   "pygments_lexer": "ipython3",
   "version": "3.9.5"
  },
  "papermill": {
   "duration": 5.672924,
   "end_time": "2022-04-22T02:11:02.878220",
   "exception": null,
   "input_path": "C:\\Users\\Isaac\\AppData\\Local\\Temp\\tmp7mxem0u2.ipynb",
   "output_path": "C:\\Users\\Isaac\\Desktop\\Folder\\Scripts\\ploomber-pipeline\\Demo-Pipeline\\output\\report.ipynb",
   "parameters": {
    "product": "C:\\Users\\Isaac\\Desktop\\Folder\\Scripts\\ploomber-pipeline\\Demo-Pipeline\\output\\report.ipynb",
    "upstream": {
     "clean_titanic": {
      "data": "C:\\Users\\Isaac\\Desktop\\Folder\\Scripts\\ploomber-pipeline\\Demo-Pipeline\\output\\died.csv",
      "data2": "C:\\Users\\Isaac\\Desktop\\Folder\\Scripts\\ploomber-pipeline\\Demo-Pipeline\\output\\survived.csv",
      "nb": "C:\\Users\\Isaac\\Desktop\\Folder\\Scripts\\ploomber-pipeline\\Demo-Pipeline\\output\\clean_titanic.ipynb"
     }
    }
   },
   "start_time": "2022-04-22T02:10:57.205296"
  }
 },
 "nbformat": 4,
 "nbformat_minor": 5
}