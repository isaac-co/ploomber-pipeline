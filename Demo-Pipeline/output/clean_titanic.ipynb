{
 "cells": [
  {
   "cell_type": "code",
   "execution_count": 1,
   "id": "67c0e7d0",
   "metadata": {
    "execution": {
     "iopub.execute_input": "2022-04-22T02:08:03.659926Z",
     "iopub.status.busy": "2022-04-22T02:08:03.658923Z",
     "iopub.status.idle": "2022-04-22T02:08:03.670937Z",
     "shell.execute_reply": "2022-04-22T02:08:03.669935Z"
    },
    "lines_to_next_cell": 2,
    "papermill": {
     "duration": 0.018014,
     "end_time": "2022-04-22T02:08:03.670937",
     "exception": false,
     "start_time": "2022-04-22T02:08:03.652923",
     "status": "completed"
    },
    "tags": []
   },
   "outputs": [],
   "source": [
    "# Cleaning the data frame with multiple and complicated steps.\n",
    "#\n",
    "# *Note:* You can open this file as a notebook (JupyterLab: right-click on it in the side bar -> Open With -> Notebook)"
   ]
  },
  {
   "cell_type": "code",
   "execution_count": 2,
   "id": "d8527d85",
   "metadata": {
    "execution": {
     "iopub.execute_input": "2022-04-22T02:08:03.678925Z",
     "iopub.status.busy": "2022-04-22T02:08:03.678925Z",
     "iopub.status.idle": "2022-04-22T02:08:03.686925Z",
     "shell.execute_reply": "2022-04-22T02:08:03.686925Z"
    },
    "papermill": {
     "duration": 0.014002,
     "end_time": "2022-04-22T02:08:03.686925",
     "exception": false,
     "start_time": "2022-04-22T02:08:03.672923",
     "status": "completed"
    },
    "tags": []
   },
   "outputs": [],
   "source": [
    "# Uncomment the next two lines to enable auto reloading for imported modules\n",
    "# %load_ext autoreload\n",
    "# %autoreload 2\n",
    "# For more info, see:\n",
    "# https://docs.ploomber.io/en/latest/user-guide/faq_index.html#auto-reloading-code-in-jupyter"
   ]
  },
  {
   "cell_type": "code",
   "execution_count": 3,
   "id": "7183d425",
   "metadata": {
    "execution": {
     "iopub.execute_input": "2022-04-22T02:08:03.701928Z",
     "iopub.status.busy": "2022-04-22T02:08:03.701928Z",
     "iopub.status.idle": "2022-04-22T02:08:03.717713Z",
     "shell.execute_reply": "2022-04-22T02:08:03.717713Z"
    },
    "lines_to_next_cell": 2,
    "papermill": {
     "duration": 0.028788,
     "end_time": "2022-04-22T02:08:03.718713",
     "exception": false,
     "start_time": "2022-04-22T02:08:03.689925",
     "status": "completed"
    },
    "tags": [
     "parameters"
    ]
   },
   "outputs": [],
   "source": [
    "# If this task has dependencies, list them them here\n",
    "# (e.g. upstream = ['some_task']), otherwise leave as None.\n",
    "upstream = ['load_titanic']\n",
    "\n",
    "# This is a placeholder, leave it as None\n",
    "product = None"
   ]
  },
  {
   "cell_type": "code",
   "execution_count": 4,
   "id": "be5ccabe",
   "metadata": {
    "execution": {
     "iopub.execute_input": "2022-04-22T02:08:03.725714Z",
     "iopub.status.busy": "2022-04-22T02:08:03.725714Z",
     "iopub.status.idle": "2022-04-22T02:08:03.734716Z",
     "shell.execute_reply": "2022-04-22T02:08:03.733716Z"
    },
    "papermill": {
     "duration": 0.015004,
     "end_time": "2022-04-22T02:08:03.734716",
     "exception": false,
     "start_time": "2022-04-22T02:08:03.719712",
     "status": "completed"
    },
    "tags": [
     "injected-parameters"
    ]
   },
   "outputs": [],
   "source": [
    "# Parameters\n",
    "upstream = {\"load_titanic\": {\"data\": \"C:\\\\Users\\\\Isaac\\\\Desktop\\\\Folder\\\\Scripts\\\\ploomber-pipeline\\\\Demo-Pipeline\\\\output\\\\titanic_raw.csv\", \"nb\": \"C:\\\\Users\\\\Isaac\\\\Desktop\\\\Folder\\\\Scripts\\\\ploomber-pipeline\\\\Demo-Pipeline\\\\output\\\\load_titanic.ipynb\"}}\n",
    "product = {\"data\": \"C:\\\\Users\\\\Isaac\\\\Desktop\\\\Folder\\\\Scripts\\\\ploomber-pipeline\\\\Demo-Pipeline\\\\output\\\\died.csv\", \"data2\": \"C:\\\\Users\\\\Isaac\\\\Desktop\\\\Folder\\\\Scripts\\\\ploomber-pipeline\\\\Demo-Pipeline\\\\output\\\\survived.csv\", \"nb\": \"C:\\\\Users\\\\Isaac\\\\Desktop\\\\Folder\\\\Scripts\\\\ploomber-pipeline\\\\Demo-Pipeline\\\\output\\\\clean_titanic.ipynb\"}\n"
   ]
  },
  {
   "cell_type": "code",
   "execution_count": 5,
   "id": "656d6df5",
   "metadata": {
    "execution": {
     "iopub.execute_input": "2022-04-22T02:08:03.742718Z",
     "iopub.status.busy": "2022-04-22T02:08:03.742718Z",
     "iopub.status.idle": "2022-04-22T02:08:04.582782Z",
     "shell.execute_reply": "2022-04-22T02:08:04.583781Z"
    },
    "papermill": {
     "duration": 0.847065,
     "end_time": "2022-04-22T02:08:04.583781",
     "exception": false,
     "start_time": "2022-04-22T02:08:03.736716",
     "status": "completed"
    },
    "tags": []
   },
   "outputs": [],
   "source": [
    "import pandas as pd\n",
    "\n",
    "df = pd.read_csv(upstream['load_titanic']['data'])\n",
    "df = df[['survived','age']]\n",
    "df.dropna(inplace=True)\n",
    "\n",
    "died = df.query('survived == 0')\n",
    "survived = df.query('survived == 1')\n",
    "\n",
    "died.to_csv(product['data'], index=False)\n",
    "survived.to_csv(product['data2'], index=False)"
   ]
  }
 ],
 "metadata": {
  "jupytext": {
   "text_representation": {
    "extension": ".py",
    "format_name": "percent",
    "format_version": "1.3",
    "jupytext_version": "1.13.8"
   }
  },
  "kernelspec": {
   "display_name": "Python 3 (ipykernel)",
   "language": "python",
   "name": "python3"
  },
  "language_info": {
   "codemirror_mode": {
    "name": "ipython",
    "version": 3
   },
   "file_extension": ".py",
   "mimetype": "text/x-python",
   "name": "python",
   "nbconvert_exporter": "python",
   "pygments_lexer": "ipython3",
   "version": "3.9.5"
  },
  "papermill": {
   "duration": 3.647968,
   "end_time": "2022-04-22T02:08:04.821604",
   "exception": null,
   "input_path": "C:\\Users\\Isaac\\AppData\\Local\\Temp\\tmpsdtt8yed.ipynb",
   "output_path": "C:\\Users\\Isaac\\Desktop\\Folder\\Scripts\\ploomber-pipeline\\Demo-Pipeline\\output\\clean_titanic.ipynb",
   "parameters": {
    "product": {
     "data": "C:\\Users\\Isaac\\Desktop\\Folder\\Scripts\\ploomber-pipeline\\Demo-Pipeline\\output\\died.csv",
     "data2": "C:\\Users\\Isaac\\Desktop\\Folder\\Scripts\\ploomber-pipeline\\Demo-Pipeline\\output\\survived.csv",
     "nb": "C:\\Users\\Isaac\\Desktop\\Folder\\Scripts\\ploomber-pipeline\\Demo-Pipeline\\output\\clean_titanic.ipynb"
    },
    "upstream": {
     "load_titanic": {
      "data": "C:\\Users\\Isaac\\Desktop\\Folder\\Scripts\\ploomber-pipeline\\Demo-Pipeline\\output\\titanic_raw.csv",
      "nb": "C:\\Users\\Isaac\\Desktop\\Folder\\Scripts\\ploomber-pipeline\\Demo-Pipeline\\output\\load_titanic.ipynb"
     }
    }
   },
   "start_time": "2022-04-22T02:08:01.173636"
  }
 },
 "nbformat": 4,
 "nbformat_minor": 5
}