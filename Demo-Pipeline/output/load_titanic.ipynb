{
 "cells": [
  {
   "cell_type": "code",
   "execution_count": 1,
   "id": "294643ea",
   "metadata": {
    "execution": {
     "iopub.execute_input": "2022-04-22T02:07:58.554241Z",
     "iopub.status.busy": "2022-04-22T02:07:58.554241Z",
     "iopub.status.idle": "2022-04-22T02:07:58.565578Z",
     "shell.execute_reply": "2022-04-22T02:07:58.565578Z"
    },
    "lines_to_next_cell": 2,
    "papermill": {
     "duration": 0.018336,
     "end_time": "2022-04-22T02:07:58.566577",
     "exception": false,
     "start_time": "2022-04-22T02:07:58.548241",
     "status": "completed"
    },
    "tags": []
   },
   "outputs": [],
   "source": [
    "# Retrieve titanic dataset.\n",
    "#\n",
    "# *Note:* You can open this file as a notebook (JupyterLab: right-click on it in the side bar -> Open With -> Notebook)"
   ]
  },
  {
   "cell_type": "code",
   "execution_count": 2,
   "id": "a82bd1dc",
   "metadata": {
    "execution": {
     "iopub.execute_input": "2022-04-22T02:07:58.575579Z",
     "iopub.status.busy": "2022-04-22T02:07:58.575579Z",
     "iopub.status.idle": "2022-04-22T02:07:58.579577Z",
     "shell.execute_reply": "2022-04-22T02:07:58.579577Z"
    },
    "papermill": {
     "duration": 0.010999,
     "end_time": "2022-04-22T02:07:58.580578",
     "exception": false,
     "start_time": "2022-04-22T02:07:58.569579",
     "status": "completed"
    },
    "tags": []
   },
   "outputs": [],
   "source": [
    "# Uncomment the next two lines to enable auto reloading for imported modules\n",
    "# %load_ext autoreload\n",
    "# %autoreload 2\n",
    "# For more info, see:\n",
    "# https://docs.ploomber.io/en/latest/user-guide/faq_index.html#auto-reloading-code-in-jupyter"
   ]
  },
  {
   "cell_type": "code",
   "execution_count": 3,
   "id": "638246fe",
   "metadata": {
    "execution": {
     "iopub.execute_input": "2022-04-22T02:07:58.592579Z",
     "iopub.status.busy": "2022-04-22T02:07:58.592579Z",
     "iopub.status.idle": "2022-04-22T02:07:58.596581Z",
     "shell.execute_reply": "2022-04-22T02:07:58.595579Z"
    },
    "lines_to_next_cell": 2,
    "papermill": {
     "duration": 0.015004,
     "end_time": "2022-04-22T02:07:58.596581",
     "exception": false,
     "start_time": "2022-04-22T02:07:58.581577",
     "status": "completed"
    },
    "tags": [
     "parameters"
    ]
   },
   "outputs": [],
   "source": [
    "# If this task has dependencies, list them them here\n",
    "# (e.g. upstream = ['some_task']), otherwise leave as None.\n",
    "upstream = None\n",
    "\n",
    "# This is a placeholder, leave it as None\n",
    "product = None"
   ]
  },
  {
   "cell_type": "code",
   "execution_count": 4,
   "id": "f72544b6",
   "metadata": {
    "execution": {
     "iopub.execute_input": "2022-04-22T02:07:58.604581Z",
     "iopub.status.busy": "2022-04-22T02:07:58.603583Z",
     "iopub.status.idle": "2022-04-22T02:07:58.611587Z",
     "shell.execute_reply": "2022-04-22T02:07:58.611587Z"
    },
    "papermill": {
     "duration": 0.013009,
     "end_time": "2022-04-22T02:07:58.611587",
     "exception": false,
     "start_time": "2022-04-22T02:07:58.598578",
     "status": "completed"
    },
    "tags": [
     "injected-parameters"
    ]
   },
   "outputs": [],
   "source": [
    "# Parameters\n",
    "product = {\"data\": \"C:\\\\Users\\\\Isaac\\\\Desktop\\\\Folder\\\\Scripts\\\\ploomber-pipeline\\\\Demo-Pipeline\\\\output\\\\titanic_raw.csv\", \"nb\": \"C:\\\\Users\\\\Isaac\\\\Desktop\\\\Folder\\\\Scripts\\\\ploomber-pipeline\\\\Demo-Pipeline\\\\output\\\\load_titanic.ipynb\"}\n"
   ]
  },
  {
   "cell_type": "code",
   "execution_count": 5,
   "id": "693822f5",
   "metadata": {
    "execution": {
     "iopub.execute_input": "2022-04-22T02:07:58.619587Z",
     "iopub.status.busy": "2022-04-22T02:07:58.618586Z",
     "iopub.status.idle": "2022-04-22T02:08:00.797437Z",
     "shell.execute_reply": "2022-04-22T02:08:00.797437Z"
    },
    "papermill": {
     "duration": 2.183852,
     "end_time": "2022-04-22T02:08:00.797437",
     "exception": false,
     "start_time": "2022-04-22T02:07:58.613585",
     "status": "completed"
    },
    "tags": []
   },
   "outputs": [],
   "source": [
    "import seaborn as sns\n",
    "\n",
    "titanic = sns.load_dataset('titanic')\n",
    "titanic.to_csv(product['data'], index=False)"
   ]
  }
 ],
 "metadata": {
  "jupytext": {
   "text_representation": {
    "extension": ".py",
    "format_name": "percent",
    "format_version": "1.3",
    "jupytext_version": "1.13.8"
   }
  },
  "kernelspec": {
   "display_name": "Python 3 (ipykernel)",
   "language": "python",
   "name": "python3"
  },
  "language_info": {
   "codemirror_mode": {
    "name": "ipython",
    "version": 3
   },
   "file_extension": ".py",
   "mimetype": "text/x-python",
   "name": "python",
   "nbconvert_exporter": "python",
   "pygments_lexer": "ipython3",
   "version": "3.9.5"
  },
  "papermill": {
   "duration": 5.118932,
   "end_time": "2022-04-22T02:08:01.149634",
   "exception": null,
   "input_path": "C:\\Users\\Isaac\\AppData\\Local\\Temp\\tmpv7f_l1e2.ipynb",
   "output_path": "C:\\Users\\Isaac\\Desktop\\Folder\\Scripts\\ploomber-pipeline\\Demo-Pipeline\\output\\load_titanic.ipynb",
   "parameters": {
    "product": {
     "data": "C:\\Users\\Isaac\\Desktop\\Folder\\Scripts\\ploomber-pipeline\\Demo-Pipeline\\output\\titanic_raw.csv",
     "nb": "C:\\Users\\Isaac\\Desktop\\Folder\\Scripts\\ploomber-pipeline\\Demo-Pipeline\\output\\load_titanic.ipynb"
    }
   },
   "start_time": "2022-04-22T02:07:56.030702"
  }
 },
 "nbformat": 4,
 "nbformat_minor": 5
}